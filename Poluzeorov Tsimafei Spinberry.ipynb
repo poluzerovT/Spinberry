{
 "cells": [
  {
   "cell_type": "code",
   "execution_count": 1,
   "id": "e007328e-62b1-4af8-a183-9e2a18db1712",
   "metadata": {},
   "outputs": [],
   "source": [
    "import numpy as np\n",
    "import scipy.stats as sts"
   ]
  },
  {
   "cell_type": "markdown",
   "id": "4246f076-53d2-4339-bb1f-a20975fab076",
   "metadata": {},
   "source": [
    "## Теория\n",
    "\n",
    "Не теряя общности, положим что размер ставки равен $1$.\n",
    "\n",
    "|               |             |       |        |        |       |          |      |\n",
    "|---            |---          | ---   | ---    | ---    | ---   |  ---     | ---  | \n",
    "|**Комбинация** |Не выиграшная|Вишня  |Персик  |Черешня |Манго  |Апельсин  |Банан |\n",
    "|**Обозначение**|O            |A      |B       |C       |D      |E         |F     |\n",
    "|**Выигрыш**    |0            |0.5    |0.5     |1       |1      |2         |5     |\n",
    "\n",
    "Введем случайную величину $W$ равную размеру выигрыша и параметризованню вероятностную меру относительно параметра $p$, например из таких соображений:\n",
    "1) Вероятность размера выигрыша пропорциональна числу комбиниций дающих такой выигрыш.\n",
    "2) Вся остальная вероятность сосредоточена на невыигрышных комбинациях.\n",
    "\n",
    "|||||||\n",
    "|---   |---   |--- |--- |---|---|\n",
    "|W     |0     |0.5 |1   |2  |5  |\n",
    "|**Pr**|1-6p|2p|2p|p|p|\n",
    "\n",
    "В таком случае $RTP := \\frac{Суммарный~выигрыш}{Суммарная~ставка}\n",
    "= \\frac{\\mathbb{E}^{\\mathbb{P}}[W]} {1}\n",
    "= \\mathbb{E}^{\\mathbb{P}}[W]$\n",
    "\n",
    "Необходимо задать такую вероятностую меру $\\mathbb{P}$ чтобы $0.945 \\le \\mathbb{E}^{\\mathbb{P}} \\le 0.955$\n",
    "\n",
    "$ \\mathbb{E}^{\\mathbb{P}} = 0 \\cdot (1-6p) + 0.5 \\cdot 2p + 1 \\cdot 2p + 2 \\cdot p + 5 \\cdot p = 10p$\n",
    "\n",
    "При составлении ленты полагаем что каждый её элемент выпадает равновероятно. Поэтому число комбинаций с определенным выиграшем должго быть пропорционально соответсвующей вероятности в $\\mathbb{P}$.\n",
    "\n",
    "Пусть $k \\in \\mathbb{N}$ - число выигрышных комбинаций на F, а $m\\in \\mathbb{N}$ - число не выигрышных комбинаций. Тогда $\\frac{m}{k} = \\frac{1-6p}{p}$\n",
    "\n",
    "Решаем полученную систему относительно $\\frac{m}{k}$\n",
    "\\begin{equation*}\n",
    "\\begin{cases}\n",
    "    0.945 \\le 10p \\le 0.955 \\\\\n",
    "    \\frac{m}{k} = \\frac{1-6p}{p} & k, m \\in \\mathbb{N}\n",
    "\\end{cases}\n",
    "\\end{equation*}\n",
    "\n",
    "$\\frac{10}{0.955} - 6 \\le \\frac{m}{k} \\le \\frac{10}{0.945} -6$\n",
    "\n",
    "$4.48... \\le \\frac{m}{k} \\le 4.58...$\n",
    "\n",
    "В качестве решения выберем наименьшее решение $m=9, k=2$\n",
    "\n",
    "В итоге имеем ленту минимальной длины в которой:\n",
    "По 2 каждой выиграшной комбинации и 9 не выигрышных.\n"
   ]
  },
  {
   "cell_type": "code",
   "execution_count": 2,
   "id": "fff262a3-8dba-4008-9329-e2a6032d518f",
   "metadata": {},
   "outputs": [
    {
     "data": {
      "text/plain": [
       "(4.471204188481677, 4.582010582010582)"
      ]
     },
     "execution_count": 2,
     "metadata": {},
     "output_type": "execute_result"
    }
   ],
   "source": [
    "10/0.955 - 6, 10/0.945 - 6"
   ]
  },
  {
   "cell_type": "markdown",
   "id": "1db8ac2a-c29e-4112-8977-96d7ab4a2a7c",
   "metadata": {},
   "source": [
    "'O' - можно заменять любыми не выигрышными комбинациями, например (Вишня, Персик, Черешня)\n",
    "\n",
    "Под 'A' понимается выигрышная комбинация на Вишнях: (Вишня, Вишня. Вишня).\n",
    "\n",
    "И так далее"
   ]
  },
  {
   "cell_type": "code",
   "execution_count": 3,
   "id": "412d8d9f-39ca-4140-8517-6ffdf43ef4d2",
   "metadata": {},
   "outputs": [],
   "source": [
    "tape = list('O'*9 + 'A'*2 + 'B'*2 + 'C'*2 + 'D'*2 + 'E'*2 + 'F'*2)\n",
    "\n",
    "payment = {\n",
    "    'O': 0,\n",
    "    'A': 0.5,\n",
    "    'B': 0.5,\n",
    "    'C': 1,\n",
    "    'D': 1,\n",
    "    'E': 2,\n",
    "    'F': 5,\n",
    "}"
   ]
  },
  {
   "cell_type": "markdown",
   "id": "ace5684b-48f4-4326-9be9-578e8bcb6bcc",
   "metadata": {},
   "source": [
    "## Эксперимент\n",
    "Проводим $N$ экспериментов:\n",
    "1) случайно выбираем комбинацию из ленты\n",
    "2) записываем выигрыш\n",
    "\n",
    "Ожидаем получить средний выигрыш в $0.95$"
   ]
  },
  {
   "cell_type": "code",
   "execution_count": 4,
   "id": "fcfe7347-bce2-4125-a52f-7c74b2e07e7a",
   "metadata": {},
   "outputs": [
    {
     "name": "stdout",
     "output_type": "stream",
     "text": [
      "mean=0.954\n",
      "ci_0.95=( 0.945, 0.963)\n"
     ]
    }
   ],
   "source": [
    "N = 100000\n",
    "alpha = 0.95\n",
    "np.random.seed(27)\n",
    "\n",
    "wins = []\n",
    "for i in range(N):\n",
    "    arg_rand = np.random.randint(0, len(tape))\n",
    "    rand_comb = tape[arg_rand]\n",
    "    win = payment[rand_comb]\n",
    "    wins.append(win)\n",
    "    \n",
    "mean = np.mean(wins)\n",
    "std = np.std(wins)\n",
    "q_le, q_ri = sts.norm.interval(alpha)\n",
    "ci = mean + std * q_le / (N**0.5), mean + std * q_ri / (N**0.5)\n",
    "\n",
    "print(f'mean={mean:.3f}')\n",
    "print(f'ci_{alpha}=({ci[0]: .3f}, {ci[1]:.3f})')"
   ]
  },
  {
   "cell_type": "markdown",
   "id": "48df5bac-6081-4da8-a705-cc5ed24ed1be",
   "metadata": {},
   "source": [
    "## Результаты\n",
    "Все ок.\n",
    "Доверительный интервал накрывает значение $0.95$.\n",
    "Требования к ленте выполнены - используются все выигрышные комбиации."
   ]
  }
 ],
 "metadata": {
  "kernelspec": {
   "display_name": "Python 3 (ipykernel)",
   "language": "python",
   "name": "python3"
  },
  "language_info": {
   "codemirror_mode": {
    "name": "ipython",
    "version": 3
   },
   "file_extension": ".py",
   "mimetype": "text/x-python",
   "name": "python",
   "nbconvert_exporter": "python",
   "pygments_lexer": "ipython3",
   "version": "3.12.9"
  }
 },
 "nbformat": 4,
 "nbformat_minor": 5
}
